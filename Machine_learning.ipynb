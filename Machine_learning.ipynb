{
  "nbformat": 4,
  "nbformat_minor": 0,
  "metadata": {
    "colab": {
      "name": "Machine_learning.ipynb",
      "provenance": [],
      "collapsed_sections": [],
      "toc_visible": true,
      "authorship_tag": "ABX9TyPwHIY+P4LbRWGkKFTj6imn",
      "include_colab_link": true
    },
    "kernelspec": {
      "name": "python3",
      "display_name": "Python 3"
    }
  },
  "cells": [
    {
      "cell_type": "markdown",
      "metadata": {
        "id": "view-in-github",
        "colab_type": "text"
      },
      "source": [
        "<a href=\"https://colab.research.google.com/github/Andersonek/Artificial-Inteligence/blob/main/Machine_learning.ipynb\" target=\"_parent\"><img src=\"https://colab.research.google.com/assets/colab-badge.svg\" alt=\"Open In Colab\"/></a>"
      ]
    },
    {
      "cell_type": "code",
      "metadata": {
        "id": "H0pEjnlpEDXb"
      },
      "source": [
        "\n",
        "import numpy as np\n",
        "import pandas as pd"
      ],
      "execution_count": null,
      "outputs": []
    },
    {
      "cell_type": "code",
      "metadata": {
        "colab": {
          "base_uri": "https://localhost:8080/",
          "height": 436
        },
        "id": "9k7Ek8rhUraA",
        "outputId": "ce564f6a-101d-4a71-e48c-a9bd201b2571"
      },
      "source": [
        "DF=pd.read_csv('ENB2012_data.csv',delimiter=';')\n",
        "DF2=pd.read_csv('ENB2012_data.csv',delimiter=';')\n",
        "DF"
      ],
      "execution_count": null,
      "outputs": [
        {
          "output_type": "execute_result",
          "data": {
            "text/html": [
              "<div>\n",
              "<style scoped>\n",
              "    .dataframe tbody tr th:only-of-type {\n",
              "        vertical-align: middle;\n",
              "    }\n",
              "\n",
              "    .dataframe tbody tr th {\n",
              "        vertical-align: top;\n",
              "    }\n",
              "\n",
              "    .dataframe thead th {\n",
              "        text-align: right;\n",
              "    }\n",
              "</style>\n",
              "<table border=\"1\" class=\"dataframe\">\n",
              "  <thead>\n",
              "    <tr style=\"text-align: right;\">\n",
              "      <th></th>\n",
              "      <th>Relative Compactness</th>\n",
              "      <th>Surface Area</th>\n",
              "      <th>Wall Area</th>\n",
              "      <th>Roof Area</th>\n",
              "      <th>Overall Height</th>\n",
              "      <th>Orientation</th>\n",
              "      <th>Glazing Area</th>\n",
              "      <th>Glazing Area Distribution</th>\n",
              "      <th>Heating Load</th>\n",
              "      <th>Cooling Load</th>\n",
              "      <th>House class</th>\n",
              "    </tr>\n",
              "  </thead>\n",
              "  <tbody>\n",
              "    <tr>\n",
              "      <th>0</th>\n",
              "      <td>0.98</td>\n",
              "      <td>514.5</td>\n",
              "      <td>294.0</td>\n",
              "      <td>110.25</td>\n",
              "      <td>7.0</td>\n",
              "      <td>2</td>\n",
              "      <td>0.0</td>\n",
              "      <td>0</td>\n",
              "      <td>15.55</td>\n",
              "      <td>21.33</td>\n",
              "      <td>0</td>\n",
              "    </tr>\n",
              "    <tr>\n",
              "      <th>1</th>\n",
              "      <td>0.98</td>\n",
              "      <td>514.5</td>\n",
              "      <td>294.0</td>\n",
              "      <td>110.25</td>\n",
              "      <td>7.0</td>\n",
              "      <td>3</td>\n",
              "      <td>0.0</td>\n",
              "      <td>0</td>\n",
              "      <td>15.55</td>\n",
              "      <td>21.33</td>\n",
              "      <td>0</td>\n",
              "    </tr>\n",
              "    <tr>\n",
              "      <th>2</th>\n",
              "      <td>0.98</td>\n",
              "      <td>514.5</td>\n",
              "      <td>294.0</td>\n",
              "      <td>110.25</td>\n",
              "      <td>7.0</td>\n",
              "      <td>4</td>\n",
              "      <td>0.0</td>\n",
              "      <td>0</td>\n",
              "      <td>15.55</td>\n",
              "      <td>21.33</td>\n",
              "      <td>0</td>\n",
              "    </tr>\n",
              "    <tr>\n",
              "      <th>3</th>\n",
              "      <td>0.98</td>\n",
              "      <td>514.5</td>\n",
              "      <td>294.0</td>\n",
              "      <td>110.25</td>\n",
              "      <td>7.0</td>\n",
              "      <td>5</td>\n",
              "      <td>0.0</td>\n",
              "      <td>0</td>\n",
              "      <td>15.55</td>\n",
              "      <td>21.33</td>\n",
              "      <td>0</td>\n",
              "    </tr>\n",
              "    <tr>\n",
              "      <th>4</th>\n",
              "      <td>0.90</td>\n",
              "      <td>563.5</td>\n",
              "      <td>318.5</td>\n",
              "      <td>122.50</td>\n",
              "      <td>7.0</td>\n",
              "      <td>2</td>\n",
              "      <td>0.0</td>\n",
              "      <td>0</td>\n",
              "      <td>20.84</td>\n",
              "      <td>28.28</td>\n",
              "      <td>1</td>\n",
              "    </tr>\n",
              "    <tr>\n",
              "      <th>...</th>\n",
              "      <td>...</td>\n",
              "      <td>...</td>\n",
              "      <td>...</td>\n",
              "      <td>...</td>\n",
              "      <td>...</td>\n",
              "      <td>...</td>\n",
              "      <td>...</td>\n",
              "      <td>...</td>\n",
              "      <td>...</td>\n",
              "      <td>...</td>\n",
              "      <td>...</td>\n",
              "    </tr>\n",
              "    <tr>\n",
              "      <th>763</th>\n",
              "      <td>0.64</td>\n",
              "      <td>784.0</td>\n",
              "      <td>343.0</td>\n",
              "      <td>220.50</td>\n",
              "      <td>3.5</td>\n",
              "      <td>5</td>\n",
              "      <td>0.4</td>\n",
              "      <td>5</td>\n",
              "      <td>17.88</td>\n",
              "      <td>21.40</td>\n",
              "      <td>0</td>\n",
              "    </tr>\n",
              "    <tr>\n",
              "      <th>764</th>\n",
              "      <td>0.62</td>\n",
              "      <td>808.5</td>\n",
              "      <td>367.5</td>\n",
              "      <td>220.50</td>\n",
              "      <td>3.5</td>\n",
              "      <td>2</td>\n",
              "      <td>0.4</td>\n",
              "      <td>5</td>\n",
              "      <td>16.54</td>\n",
              "      <td>16.88</td>\n",
              "      <td>0</td>\n",
              "    </tr>\n",
              "    <tr>\n",
              "      <th>765</th>\n",
              "      <td>0.62</td>\n",
              "      <td>808.5</td>\n",
              "      <td>367.5</td>\n",
              "      <td>220.50</td>\n",
              "      <td>3.5</td>\n",
              "      <td>3</td>\n",
              "      <td>0.4</td>\n",
              "      <td>5</td>\n",
              "      <td>16.44</td>\n",
              "      <td>17.11</td>\n",
              "      <td>0</td>\n",
              "    </tr>\n",
              "    <tr>\n",
              "      <th>766</th>\n",
              "      <td>0.62</td>\n",
              "      <td>808.5</td>\n",
              "      <td>367.5</td>\n",
              "      <td>220.50</td>\n",
              "      <td>3.5</td>\n",
              "      <td>4</td>\n",
              "      <td>0.4</td>\n",
              "      <td>5</td>\n",
              "      <td>16.48</td>\n",
              "      <td>16.61</td>\n",
              "      <td>0</td>\n",
              "    </tr>\n",
              "    <tr>\n",
              "      <th>767</th>\n",
              "      <td>0.62</td>\n",
              "      <td>808.5</td>\n",
              "      <td>367.5</td>\n",
              "      <td>220.50</td>\n",
              "      <td>3.5</td>\n",
              "      <td>5</td>\n",
              "      <td>0.4</td>\n",
              "      <td>5</td>\n",
              "      <td>16.64</td>\n",
              "      <td>16.03</td>\n",
              "      <td>0</td>\n",
              "    </tr>\n",
              "  </tbody>\n",
              "</table>\n",
              "<p>768 rows × 11 columns</p>\n",
              "</div>"
            ],
            "text/plain": [
              "     Relative Compactness  Surface Area  ...  Cooling Load  House class\n",
              "0                    0.98         514.5  ...         21.33            0\n",
              "1                    0.98         514.5  ...         21.33            0\n",
              "2                    0.98         514.5  ...         21.33            0\n",
              "3                    0.98         514.5  ...         21.33            0\n",
              "4                    0.90         563.5  ...         28.28            1\n",
              "..                    ...           ...  ...           ...          ...\n",
              "763                  0.64         784.0  ...         21.40            0\n",
              "764                  0.62         808.5  ...         16.88            0\n",
              "765                  0.62         808.5  ...         17.11            0\n",
              "766                  0.62         808.5  ...         16.61            0\n",
              "767                  0.62         808.5  ...         16.03            0\n",
              "\n",
              "[768 rows x 11 columns]"
            ]
          },
          "metadata": {
            "tags": []
          },
          "execution_count": 2
        }
      ]
    },
    {
      "cell_type": "code",
      "metadata": {
        "id": "M_U5Md0I9Jdy"
      },
      "source": [
        "DF.sort_values('Roof Area',ascending=False)\n",
        "New_DF=DF[[\"Relative Compactness\",\"Roof Area\"]]#COPY"
      ],
      "execution_count": null,
      "outputs": []
    },
    {
      "cell_type": "code",
      "metadata": {
        "colab": {
          "base_uri": "https://localhost:8080/",
          "height": 436
        },
        "id": "k2la5sgzo-0Q",
        "outputId": "3f9a71a8-6f38-42b6-ffdf-1850c70aaaed"
      },
      "source": [
        "DF.loc[DF['Surface Area']>750]"
      ],
      "execution_count": null,
      "outputs": [
        {
          "output_type": "execute_result",
          "data": {
            "text/html": [
              "<div>\n",
              "<style scoped>\n",
              "    .dataframe tbody tr th:only-of-type {\n",
              "        vertical-align: middle;\n",
              "    }\n",
              "\n",
              "    .dataframe tbody tr th {\n",
              "        vertical-align: top;\n",
              "    }\n",
              "\n",
              "    .dataframe thead th {\n",
              "        text-align: right;\n",
              "    }\n",
              "</style>\n",
              "<table border=\"1\" class=\"dataframe\">\n",
              "  <thead>\n",
              "    <tr style=\"text-align: right;\">\n",
              "      <th></th>\n",
              "      <th>Relative Compactness</th>\n",
              "      <th>Surface Area</th>\n",
              "      <th>Wall Area</th>\n",
              "      <th>Roof Area</th>\n",
              "      <th>Overall Height</th>\n",
              "      <th>Orientation</th>\n",
              "      <th>Glazing Area</th>\n",
              "      <th>Glazing Area Distribution</th>\n",
              "      <th>Heating Load</th>\n",
              "      <th>Cooling Load</th>\n",
              "      <th>House class</th>\n",
              "    </tr>\n",
              "  </thead>\n",
              "  <tbody>\n",
              "    <tr>\n",
              "      <th>36</th>\n",
              "      <td>0.66</td>\n",
              "      <td>759.5</td>\n",
              "      <td>318.5</td>\n",
              "      <td>220.5</td>\n",
              "      <td>3.5</td>\n",
              "      <td>2</td>\n",
              "      <td>0.0</td>\n",
              "      <td>0</td>\n",
              "      <td>7.18</td>\n",
              "      <td>12.40</td>\n",
              "      <td>0</td>\n",
              "    </tr>\n",
              "    <tr>\n",
              "      <th>37</th>\n",
              "      <td>0.66</td>\n",
              "      <td>759.5</td>\n",
              "      <td>318.5</td>\n",
              "      <td>220.5</td>\n",
              "      <td>3.5</td>\n",
              "      <td>3</td>\n",
              "      <td>0.0</td>\n",
              "      <td>0</td>\n",
              "      <td>7.10</td>\n",
              "      <td>12.23</td>\n",
              "      <td>0</td>\n",
              "    </tr>\n",
              "    <tr>\n",
              "      <th>38</th>\n",
              "      <td>0.66</td>\n",
              "      <td>759.5</td>\n",
              "      <td>318.5</td>\n",
              "      <td>220.5</td>\n",
              "      <td>3.5</td>\n",
              "      <td>4</td>\n",
              "      <td>0.0</td>\n",
              "      <td>0</td>\n",
              "      <td>7.10</td>\n",
              "      <td>12.40</td>\n",
              "      <td>0</td>\n",
              "    </tr>\n",
              "    <tr>\n",
              "      <th>39</th>\n",
              "      <td>0.66</td>\n",
              "      <td>759.5</td>\n",
              "      <td>318.5</td>\n",
              "      <td>220.5</td>\n",
              "      <td>3.5</td>\n",
              "      <td>5</td>\n",
              "      <td>0.0</td>\n",
              "      <td>0</td>\n",
              "      <td>7.10</td>\n",
              "      <td>12.14</td>\n",
              "      <td>0</td>\n",
              "    </tr>\n",
              "    <tr>\n",
              "      <th>40</th>\n",
              "      <td>0.64</td>\n",
              "      <td>784.0</td>\n",
              "      <td>343.0</td>\n",
              "      <td>220.5</td>\n",
              "      <td>3.5</td>\n",
              "      <td>2</td>\n",
              "      <td>0.0</td>\n",
              "      <td>0</td>\n",
              "      <td>10.85</td>\n",
              "      <td>16.78</td>\n",
              "      <td>0</td>\n",
              "    </tr>\n",
              "    <tr>\n",
              "      <th>...</th>\n",
              "      <td>...</td>\n",
              "      <td>...</td>\n",
              "      <td>...</td>\n",
              "      <td>...</td>\n",
              "      <td>...</td>\n",
              "      <td>...</td>\n",
              "      <td>...</td>\n",
              "      <td>...</td>\n",
              "      <td>...</td>\n",
              "      <td>...</td>\n",
              "      <td>...</td>\n",
              "    </tr>\n",
              "    <tr>\n",
              "      <th>763</th>\n",
              "      <td>0.64</td>\n",
              "      <td>784.0</td>\n",
              "      <td>343.0</td>\n",
              "      <td>220.5</td>\n",
              "      <td>3.5</td>\n",
              "      <td>5</td>\n",
              "      <td>0.4</td>\n",
              "      <td>5</td>\n",
              "      <td>17.88</td>\n",
              "      <td>21.40</td>\n",
              "      <td>0</td>\n",
              "    </tr>\n",
              "    <tr>\n",
              "      <th>764</th>\n",
              "      <td>0.62</td>\n",
              "      <td>808.5</td>\n",
              "      <td>367.5</td>\n",
              "      <td>220.5</td>\n",
              "      <td>3.5</td>\n",
              "      <td>2</td>\n",
              "      <td>0.4</td>\n",
              "      <td>5</td>\n",
              "      <td>16.54</td>\n",
              "      <td>16.88</td>\n",
              "      <td>0</td>\n",
              "    </tr>\n",
              "    <tr>\n",
              "      <th>765</th>\n",
              "      <td>0.62</td>\n",
              "      <td>808.5</td>\n",
              "      <td>367.5</td>\n",
              "      <td>220.5</td>\n",
              "      <td>3.5</td>\n",
              "      <td>3</td>\n",
              "      <td>0.4</td>\n",
              "      <td>5</td>\n",
              "      <td>16.44</td>\n",
              "      <td>17.11</td>\n",
              "      <td>0</td>\n",
              "    </tr>\n",
              "    <tr>\n",
              "      <th>766</th>\n",
              "      <td>0.62</td>\n",
              "      <td>808.5</td>\n",
              "      <td>367.5</td>\n",
              "      <td>220.5</td>\n",
              "      <td>3.5</td>\n",
              "      <td>4</td>\n",
              "      <td>0.4</td>\n",
              "      <td>5</td>\n",
              "      <td>16.48</td>\n",
              "      <td>16.61</td>\n",
              "      <td>0</td>\n",
              "    </tr>\n",
              "    <tr>\n",
              "      <th>767</th>\n",
              "      <td>0.62</td>\n",
              "      <td>808.5</td>\n",
              "      <td>367.5</td>\n",
              "      <td>220.5</td>\n",
              "      <td>3.5</td>\n",
              "      <td>5</td>\n",
              "      <td>0.4</td>\n",
              "      <td>5</td>\n",
              "      <td>16.64</td>\n",
              "      <td>16.03</td>\n",
              "      <td>0</td>\n",
              "    </tr>\n",
              "  </tbody>\n",
              "</table>\n",
              "<p>192 rows × 11 columns</p>\n",
              "</div>"
            ],
            "text/plain": [
              "     Relative Compactness  Surface Area  ...  Cooling Load  House class\n",
              "36                   0.66         759.5  ...         12.40            0\n",
              "37                   0.66         759.5  ...         12.23            0\n",
              "38                   0.66         759.5  ...         12.40            0\n",
              "39                   0.66         759.5  ...         12.14            0\n",
              "40                   0.64         784.0  ...         16.78            0\n",
              "..                    ...           ...  ...           ...          ...\n",
              "763                  0.64         784.0  ...         21.40            0\n",
              "764                  0.62         808.5  ...         16.88            0\n",
              "765                  0.62         808.5  ...         17.11            0\n",
              "766                  0.62         808.5  ...         16.61            0\n",
              "767                  0.62         808.5  ...         16.03            0\n",
              "\n",
              "[192 rows x 11 columns]"
            ]
          },
          "metadata": {
            "tags": []
          },
          "execution_count": 4
        }
      ]
    },
    {
      "cell_type": "code",
      "metadata": {
        "colab": {
          "base_uri": "https://localhost:8080/"
        },
        "id": "t-SCkJo3saPD",
        "outputId": "cf9528f0-dd1c-48d3-84f2-e840d3c86ef8"
      },
      "source": [
        "DF.dtypes"
      ],
      "execution_count": null,
      "outputs": [
        {
          "output_type": "execute_result",
          "data": {
            "text/plain": [
              "Relative Compactness         float64\n",
              "Surface Area                 float64\n",
              "Wall Area                    float64\n",
              "Roof Area                    float64\n",
              "Overall Height               float64\n",
              "Orientation                    int64\n",
              "Glazing Area                 float64\n",
              "Glazing Area Distribution      int64\n",
              "Heating Load                 float64\n",
              "Cooling Load                 float64\n",
              "House class                    int64\n",
              "dtype: object"
            ]
          },
          "metadata": {
            "tags": []
          },
          "execution_count": 5
        }
      ]
    },
    {
      "cell_type": "markdown",
      "metadata": {
        "id": "MeEHlyBjwKJK"
      },
      "source": [
        "#Algorytm odległości euklidesowej\n"
      ]
    },
    {
      "cell_type": "code",
      "metadata": {
        "colab": {
          "base_uri": "https://localhost:8080/",
          "height": 436
        },
        "id": "XTaj_ju_ve2j",
        "outputId": "6aea79b1-e8b0-46a7-dce8-a0a118569dff"
      },
      "source": [
        "DF2['Odleglosc Euklidesa']=0\n",
        "DF2"
      ],
      "execution_count": null,
      "outputs": [
        {
          "output_type": "execute_result",
          "data": {
            "text/html": [
              "<div>\n",
              "<style scoped>\n",
              "    .dataframe tbody tr th:only-of-type {\n",
              "        vertical-align: middle;\n",
              "    }\n",
              "\n",
              "    .dataframe tbody tr th {\n",
              "        vertical-align: top;\n",
              "    }\n",
              "\n",
              "    .dataframe thead th {\n",
              "        text-align: right;\n",
              "    }\n",
              "</style>\n",
              "<table border=\"1\" class=\"dataframe\">\n",
              "  <thead>\n",
              "    <tr style=\"text-align: right;\">\n",
              "      <th></th>\n",
              "      <th>Relative Compactness</th>\n",
              "      <th>Surface Area</th>\n",
              "      <th>Wall Area</th>\n",
              "      <th>Roof Area</th>\n",
              "      <th>Overall Height</th>\n",
              "      <th>Orientation</th>\n",
              "      <th>Glazing Area</th>\n",
              "      <th>Glazing Area Distribution</th>\n",
              "      <th>Heating Load</th>\n",
              "      <th>Cooling Load</th>\n",
              "      <th>House class</th>\n",
              "      <th>Odleglosc Euklidesa</th>\n",
              "    </tr>\n",
              "  </thead>\n",
              "  <tbody>\n",
              "    <tr>\n",
              "      <th>0</th>\n",
              "      <td>0.98</td>\n",
              "      <td>514.5</td>\n",
              "      <td>294.0</td>\n",
              "      <td>110.25</td>\n",
              "      <td>7.0</td>\n",
              "      <td>2</td>\n",
              "      <td>0.0</td>\n",
              "      <td>0</td>\n",
              "      <td>15.55</td>\n",
              "      <td>21.33</td>\n",
              "      <td>0</td>\n",
              "      <td>0</td>\n",
              "    </tr>\n",
              "    <tr>\n",
              "      <th>1</th>\n",
              "      <td>0.98</td>\n",
              "      <td>514.5</td>\n",
              "      <td>294.0</td>\n",
              "      <td>110.25</td>\n",
              "      <td>7.0</td>\n",
              "      <td>3</td>\n",
              "      <td>0.0</td>\n",
              "      <td>0</td>\n",
              "      <td>15.55</td>\n",
              "      <td>21.33</td>\n",
              "      <td>0</td>\n",
              "      <td>0</td>\n",
              "    </tr>\n",
              "    <tr>\n",
              "      <th>2</th>\n",
              "      <td>0.98</td>\n",
              "      <td>514.5</td>\n",
              "      <td>294.0</td>\n",
              "      <td>110.25</td>\n",
              "      <td>7.0</td>\n",
              "      <td>4</td>\n",
              "      <td>0.0</td>\n",
              "      <td>0</td>\n",
              "      <td>15.55</td>\n",
              "      <td>21.33</td>\n",
              "      <td>0</td>\n",
              "      <td>0</td>\n",
              "    </tr>\n",
              "    <tr>\n",
              "      <th>3</th>\n",
              "      <td>0.98</td>\n",
              "      <td>514.5</td>\n",
              "      <td>294.0</td>\n",
              "      <td>110.25</td>\n",
              "      <td>7.0</td>\n",
              "      <td>5</td>\n",
              "      <td>0.0</td>\n",
              "      <td>0</td>\n",
              "      <td>15.55</td>\n",
              "      <td>21.33</td>\n",
              "      <td>0</td>\n",
              "      <td>0</td>\n",
              "    </tr>\n",
              "    <tr>\n",
              "      <th>4</th>\n",
              "      <td>0.90</td>\n",
              "      <td>563.5</td>\n",
              "      <td>318.5</td>\n",
              "      <td>122.50</td>\n",
              "      <td>7.0</td>\n",
              "      <td>2</td>\n",
              "      <td>0.0</td>\n",
              "      <td>0</td>\n",
              "      <td>20.84</td>\n",
              "      <td>28.28</td>\n",
              "      <td>1</td>\n",
              "      <td>0</td>\n",
              "    </tr>\n",
              "    <tr>\n",
              "      <th>...</th>\n",
              "      <td>...</td>\n",
              "      <td>...</td>\n",
              "      <td>...</td>\n",
              "      <td>...</td>\n",
              "      <td>...</td>\n",
              "      <td>...</td>\n",
              "      <td>...</td>\n",
              "      <td>...</td>\n",
              "      <td>...</td>\n",
              "      <td>...</td>\n",
              "      <td>...</td>\n",
              "      <td>...</td>\n",
              "    </tr>\n",
              "    <tr>\n",
              "      <th>763</th>\n",
              "      <td>0.64</td>\n",
              "      <td>784.0</td>\n",
              "      <td>343.0</td>\n",
              "      <td>220.50</td>\n",
              "      <td>3.5</td>\n",
              "      <td>5</td>\n",
              "      <td>0.4</td>\n",
              "      <td>5</td>\n",
              "      <td>17.88</td>\n",
              "      <td>21.40</td>\n",
              "      <td>0</td>\n",
              "      <td>0</td>\n",
              "    </tr>\n",
              "    <tr>\n",
              "      <th>764</th>\n",
              "      <td>0.62</td>\n",
              "      <td>808.5</td>\n",
              "      <td>367.5</td>\n",
              "      <td>220.50</td>\n",
              "      <td>3.5</td>\n",
              "      <td>2</td>\n",
              "      <td>0.4</td>\n",
              "      <td>5</td>\n",
              "      <td>16.54</td>\n",
              "      <td>16.88</td>\n",
              "      <td>0</td>\n",
              "      <td>0</td>\n",
              "    </tr>\n",
              "    <tr>\n",
              "      <th>765</th>\n",
              "      <td>0.62</td>\n",
              "      <td>808.5</td>\n",
              "      <td>367.5</td>\n",
              "      <td>220.50</td>\n",
              "      <td>3.5</td>\n",
              "      <td>3</td>\n",
              "      <td>0.4</td>\n",
              "      <td>5</td>\n",
              "      <td>16.44</td>\n",
              "      <td>17.11</td>\n",
              "      <td>0</td>\n",
              "      <td>0</td>\n",
              "    </tr>\n",
              "    <tr>\n",
              "      <th>766</th>\n",
              "      <td>0.62</td>\n",
              "      <td>808.5</td>\n",
              "      <td>367.5</td>\n",
              "      <td>220.50</td>\n",
              "      <td>3.5</td>\n",
              "      <td>4</td>\n",
              "      <td>0.4</td>\n",
              "      <td>5</td>\n",
              "      <td>16.48</td>\n",
              "      <td>16.61</td>\n",
              "      <td>0</td>\n",
              "      <td>0</td>\n",
              "    </tr>\n",
              "    <tr>\n",
              "      <th>767</th>\n",
              "      <td>0.62</td>\n",
              "      <td>808.5</td>\n",
              "      <td>367.5</td>\n",
              "      <td>220.50</td>\n",
              "      <td>3.5</td>\n",
              "      <td>5</td>\n",
              "      <td>0.4</td>\n",
              "      <td>5</td>\n",
              "      <td>16.64</td>\n",
              "      <td>16.03</td>\n",
              "      <td>0</td>\n",
              "      <td>0</td>\n",
              "    </tr>\n",
              "  </tbody>\n",
              "</table>\n",
              "<p>768 rows × 12 columns</p>\n",
              "</div>"
            ],
            "text/plain": [
              "     Relative Compactness  Surface Area  ...  House class  Odleglosc Euklidesa\n",
              "0                    0.98         514.5  ...            0                    0\n",
              "1                    0.98         514.5  ...            0                    0\n",
              "2                    0.98         514.5  ...            0                    0\n",
              "3                    0.98         514.5  ...            0                    0\n",
              "4                    0.90         563.5  ...            1                    0\n",
              "..                    ...           ...  ...          ...                  ...\n",
              "763                  0.64         784.0  ...            0                    0\n",
              "764                  0.62         808.5  ...            0                    0\n",
              "765                  0.62         808.5  ...            0                    0\n",
              "766                  0.62         808.5  ...            0                    0\n",
              "767                  0.62         808.5  ...            0                    0\n",
              "\n",
              "[768 rows x 12 columns]"
            ]
          },
          "metadata": {
            "tags": []
          },
          "execution_count": 6
        }
      ]
    },
    {
      "cell_type": "code",
      "metadata": {
        "colab": {
          "base_uri": "https://localhost:8080/"
        },
        "id": "owA4rQfwWmNP",
        "outputId": "b5b0f7fa-f027-4575-e943-5465cd413020"
      },
      "source": [
        "DF.iloc[1][0]"
      ],
      "execution_count": null,
      "outputs": [
        {
          "output_type": "execute_result",
          "data": {
            "text/plain": [
              "0.98"
            ]
          },
          "metadata": {
            "tags": []
          },
          "execution_count": 7
        }
      ]
    },
    {
      "cell_type": "code",
      "metadata": {
        "colab": {
          "base_uri": "https://localhost:8080/"
        },
        "id": "3jlz8nbtfhe9",
        "outputId": "49d021b0-7076-4fa5-e676-d90ae007f424"
      },
      "source": [
        "lenght=len(DF)\n",
        "ind=round(0.75*len(DF))\n",
        "tests=lenght-ind\n",
        "Dev_DF=DF2[:ind]\n",
        "Test_DF=DF2[ind:]\n",
        "Dev=Dev_DF\n",
        "Test=Test_DF[['Relative Compactness','Surface Area','Wall Area','Roof Area','Overall Height','Orientation','Glazing Area','Glazing Area Distribution','Heating Load', 'Cooling Load']]\n",
        "Test['House class']=None\n",
        "Test_DF.iloc[0][-4]\n",
        "Test.iloc[0][-3]"
      ],
      "execution_count": null,
      "outputs": [
        {
          "output_type": "stream",
          "text": [
            "/usr/local/lib/python3.6/dist-packages/ipykernel_launcher.py:8: SettingWithCopyWarning: \n",
            "A value is trying to be set on a copy of a slice from a DataFrame.\n",
            "Try using .loc[row_indexer,col_indexer] = value instead\n",
            "\n",
            "See the caveats in the documentation: https://pandas.pydata.org/pandas-docs/stable/user_guide/indexing.html#returning-a-view-versus-a-copy\n",
            "  \n"
          ],
          "name": "stderr"
        },
        {
          "output_type": "execute_result",
          "data": {
            "text/plain": [
              "32.82"
            ]
          },
          "metadata": {
            "tags": []
          },
          "execution_count": 8
        }
      ]
    },
    {
      "cell_type": "code",
      "metadata": {
        "colab": {
          "base_uri": "https://localhost:8080/"
        },
        "id": "VilZjsKZ1vVJ",
        "outputId": "7e4e41d6-c706-41a8-c544-7ba479b658e7"
      },
      "source": [
        "n=int(input(\"Podaj liczbę wierszy do porównania: \"))"
      ],
      "execution_count": null,
      "outputs": [
        {
          "output_type": "stream",
          "text": [
            "Podaj liczbę wieszy do porównania: 7\n"
          ],
          "name": "stdout"
        }
      ]
    },
    {
      "cell_type": "code",
      "metadata": {
        "colab": {
          "base_uri": "https://localhost:8080/"
        },
        "id": "KSIFizVsBMSq",
        "outputId": "d0936c06-1d14-43b7-8d55-5302c09d26ab"
      },
      "source": [
        "for line in range(tests):\n",
        "  Odleglosc=[0]*ind\n",
        "  for row in range(ind):\n",
        "    p2=Dev[\"Cooling Load\"].iloc[row]\n",
        "    p3=Dev[\"Heating Load\"].iloc[row]\n",
        "    Odleglosc[row]=round(np.sqrt((Test.iloc[line][-3]-p2)**2+(Test.iloc[line][-2]-p3)**2),2)\n",
        "    Dev['Odleglosc Euklidesa'][row]=Odleglosc[row]\n",
        "  new=Dev.nsmallest(n,'Odleglosc Euklidesa')\n",
        "  meta=new['House class'].value_counts()[:1].index.tolist()\n",
        "  a=meta[0]\n",
        "  Test['House class'].iloc[line]=a\n"
      ],
      "execution_count": null,
      "outputs": [
        {
          "output_type": "stream",
          "text": [
            "/usr/local/lib/python3.6/dist-packages/ipykernel_launcher.py:7: SettingWithCopyWarning: \n",
            "A value is trying to be set on a copy of a slice from a DataFrame\n",
            "\n",
            "See the caveats in the documentation: https://pandas.pydata.org/pandas-docs/stable/user_guide/indexing.html#returning-a-view-versus-a-copy\n",
            "  import sys\n",
            "/usr/local/lib/python3.6/dist-packages/IPython/core/interactiveshell.py:2882: SettingWithCopyWarning: \n",
            "A value is trying to be set on a copy of a slice from a DataFrame\n",
            "\n",
            "See the caveats in the documentation: https://pandas.pydata.org/pandas-docs/stable/user_guide/indexing.html#returning-a-view-versus-a-copy\n",
            "  exec(code_obj, self.user_global_ns, self.user_ns)\n",
            "/usr/local/lib/python3.6/dist-packages/pandas/core/indexing.py:670: SettingWithCopyWarning: \n",
            "A value is trying to be set on a copy of a slice from a DataFrame\n",
            "\n",
            "See the caveats in the documentation: https://pandas.pydata.org/pandas-docs/stable/user_guide/indexing.html#returning-a-view-versus-a-copy\n",
            "  iloc._setitem_with_indexer(indexer, value)\n",
            "/usr/local/lib/python3.6/dist-packages/ipykernel_launcher.py:11: SettingWithCopyWarning: \n",
            "A value is trying to be set on a copy of a slice from a DataFrame\n",
            "\n",
            "See the caveats in the documentation: https://pandas.pydata.org/pandas-docs/stable/user_guide/indexing.html#returning-a-view-versus-a-copy\n",
            "  # This is added back by InteractiveShellApp.init_path()\n"
          ],
          "name": "stderr"
        }
      ]
    },
    {
      "cell_type": "code",
      "metadata": {
        "id": "ADNJ_3hgJhqg",
        "colab": {
          "base_uri": "https://localhost:8080/",
          "height": 436
        },
        "outputId": "8eed8eca-9d09-453a-96e9-8cce23e9d398"
      },
      "source": [
        "Test"
      ],
      "execution_count": null,
      "outputs": [
        {
          "output_type": "execute_result",
          "data": {
            "text/html": [
              "<div>\n",
              "<style scoped>\n",
              "    .dataframe tbody tr th:only-of-type {\n",
              "        vertical-align: middle;\n",
              "    }\n",
              "\n",
              "    .dataframe tbody tr th {\n",
              "        vertical-align: top;\n",
              "    }\n",
              "\n",
              "    .dataframe thead th {\n",
              "        text-align: right;\n",
              "    }\n",
              "</style>\n",
              "<table border=\"1\" class=\"dataframe\">\n",
              "  <thead>\n",
              "    <tr style=\"text-align: right;\">\n",
              "      <th></th>\n",
              "      <th>Relative Compactness</th>\n",
              "      <th>Surface Area</th>\n",
              "      <th>Wall Area</th>\n",
              "      <th>Roof Area</th>\n",
              "      <th>Overall Height</th>\n",
              "      <th>Orientation</th>\n",
              "      <th>Glazing Area</th>\n",
              "      <th>Glazing Area Distribution</th>\n",
              "      <th>Heating Load</th>\n",
              "      <th>Cooling Load</th>\n",
              "      <th>House class</th>\n",
              "    </tr>\n",
              "  </thead>\n",
              "  <tbody>\n",
              "    <tr>\n",
              "      <th>576</th>\n",
              "      <td>0.98</td>\n",
              "      <td>514.5</td>\n",
              "      <td>294.0</td>\n",
              "      <td>110.25</td>\n",
              "      <td>7.0</td>\n",
              "      <td>2</td>\n",
              "      <td>0.4</td>\n",
              "      <td>2</td>\n",
              "      <td>32.82</td>\n",
              "      <td>32.96</td>\n",
              "      <td>1</td>\n",
              "    </tr>\n",
              "    <tr>\n",
              "      <th>577</th>\n",
              "      <td>0.98</td>\n",
              "      <td>514.5</td>\n",
              "      <td>294.0</td>\n",
              "      <td>110.25</td>\n",
              "      <td>7.0</td>\n",
              "      <td>3</td>\n",
              "      <td>0.4</td>\n",
              "      <td>2</td>\n",
              "      <td>32.71</td>\n",
              "      <td>33.13</td>\n",
              "      <td>1</td>\n",
              "    </tr>\n",
              "    <tr>\n",
              "      <th>578</th>\n",
              "      <td>0.98</td>\n",
              "      <td>514.5</td>\n",
              "      <td>294.0</td>\n",
              "      <td>110.25</td>\n",
              "      <td>7.0</td>\n",
              "      <td>4</td>\n",
              "      <td>0.4</td>\n",
              "      <td>2</td>\n",
              "      <td>32.24</td>\n",
              "      <td>33.94</td>\n",
              "      <td>1</td>\n",
              "    </tr>\n",
              "    <tr>\n",
              "      <th>579</th>\n",
              "      <td>0.98</td>\n",
              "      <td>514.5</td>\n",
              "      <td>294.0</td>\n",
              "      <td>110.25</td>\n",
              "      <td>7.0</td>\n",
              "      <td>5</td>\n",
              "      <td>0.4</td>\n",
              "      <td>2</td>\n",
              "      <td>32.72</td>\n",
              "      <td>33.78</td>\n",
              "      <td>1</td>\n",
              "    </tr>\n",
              "    <tr>\n",
              "      <th>580</th>\n",
              "      <td>0.90</td>\n",
              "      <td>563.5</td>\n",
              "      <td>318.5</td>\n",
              "      <td>122.50</td>\n",
              "      <td>7.0</td>\n",
              "      <td>2</td>\n",
              "      <td>0.4</td>\n",
              "      <td>2</td>\n",
              "      <td>35.84</td>\n",
              "      <td>38.35</td>\n",
              "      <td>1</td>\n",
              "    </tr>\n",
              "    <tr>\n",
              "      <th>...</th>\n",
              "      <td>...</td>\n",
              "      <td>...</td>\n",
              "      <td>...</td>\n",
              "      <td>...</td>\n",
              "      <td>...</td>\n",
              "      <td>...</td>\n",
              "      <td>...</td>\n",
              "      <td>...</td>\n",
              "      <td>...</td>\n",
              "      <td>...</td>\n",
              "      <td>...</td>\n",
              "    </tr>\n",
              "    <tr>\n",
              "      <th>763</th>\n",
              "      <td>0.64</td>\n",
              "      <td>784.0</td>\n",
              "      <td>343.0</td>\n",
              "      <td>220.50</td>\n",
              "      <td>3.5</td>\n",
              "      <td>5</td>\n",
              "      <td>0.4</td>\n",
              "      <td>5</td>\n",
              "      <td>17.88</td>\n",
              "      <td>21.40</td>\n",
              "      <td>0</td>\n",
              "    </tr>\n",
              "    <tr>\n",
              "      <th>764</th>\n",
              "      <td>0.62</td>\n",
              "      <td>808.5</td>\n",
              "      <td>367.5</td>\n",
              "      <td>220.50</td>\n",
              "      <td>3.5</td>\n",
              "      <td>2</td>\n",
              "      <td>0.4</td>\n",
              "      <td>5</td>\n",
              "      <td>16.54</td>\n",
              "      <td>16.88</td>\n",
              "      <td>0</td>\n",
              "    </tr>\n",
              "    <tr>\n",
              "      <th>765</th>\n",
              "      <td>0.62</td>\n",
              "      <td>808.5</td>\n",
              "      <td>367.5</td>\n",
              "      <td>220.50</td>\n",
              "      <td>3.5</td>\n",
              "      <td>3</td>\n",
              "      <td>0.4</td>\n",
              "      <td>5</td>\n",
              "      <td>16.44</td>\n",
              "      <td>17.11</td>\n",
              "      <td>0</td>\n",
              "    </tr>\n",
              "    <tr>\n",
              "      <th>766</th>\n",
              "      <td>0.62</td>\n",
              "      <td>808.5</td>\n",
              "      <td>367.5</td>\n",
              "      <td>220.50</td>\n",
              "      <td>3.5</td>\n",
              "      <td>4</td>\n",
              "      <td>0.4</td>\n",
              "      <td>5</td>\n",
              "      <td>16.48</td>\n",
              "      <td>16.61</td>\n",
              "      <td>0</td>\n",
              "    </tr>\n",
              "    <tr>\n",
              "      <th>767</th>\n",
              "      <td>0.62</td>\n",
              "      <td>808.5</td>\n",
              "      <td>367.5</td>\n",
              "      <td>220.50</td>\n",
              "      <td>3.5</td>\n",
              "      <td>5</td>\n",
              "      <td>0.4</td>\n",
              "      <td>5</td>\n",
              "      <td>16.64</td>\n",
              "      <td>16.03</td>\n",
              "      <td>0</td>\n",
              "    </tr>\n",
              "  </tbody>\n",
              "</table>\n",
              "<p>192 rows × 11 columns</p>\n",
              "</div>"
            ],
            "text/plain": [
              "     Relative Compactness  Surface Area  ...  Cooling Load  House class\n",
              "576                  0.98         514.5  ...         32.96            1\n",
              "577                  0.98         514.5  ...         33.13            1\n",
              "578                  0.98         514.5  ...         33.94            1\n",
              "579                  0.98         514.5  ...         33.78            1\n",
              "580                  0.90         563.5  ...         38.35            1\n",
              "..                    ...           ...  ...           ...          ...\n",
              "763                  0.64         784.0  ...         21.40            0\n",
              "764                  0.62         808.5  ...         16.88            0\n",
              "765                  0.62         808.5  ...         17.11            0\n",
              "766                  0.62         808.5  ...         16.61            0\n",
              "767                  0.62         808.5  ...         16.03            0\n",
              "\n",
              "[192 rows x 11 columns]"
            ]
          },
          "metadata": {
            "tags": []
          },
          "execution_count": 11
        }
      ]
    },
    {
      "cell_type": "code",
      "metadata": {
        "colab": {
          "base_uri": "https://localhost:8080/"
        },
        "id": "fWB69IaqzWfM",
        "outputId": "71af7ad9-d11e-4331-a848-0d1f4f56b541"
      },
      "source": [
        "Test['House class'].iloc[0]"
      ],
      "execution_count": null,
      "outputs": [
        {
          "output_type": "execute_result",
          "data": {
            "text/plain": [
              "1"
            ]
          },
          "metadata": {
            "tags": []
          },
          "execution_count": 12
        }
      ]
    },
    {
      "cell_type": "code",
      "metadata": {
        "id": "7_tHMKVpzQYI",
        "colab": {
          "base_uri": "https://localhost:8080/"
        },
        "outputId": "0b318457-a21d-4593-b092-16bc86dc1769"
      },
      "source": [
        "TP=0\n",
        "TN=0\n",
        "FP=0\n",
        "FN=0\n",
        "for rows in range(tests):\n",
        "  if ((Test['House class'].iloc[rows]==1) and (Test_DF['House class'].iloc[rows]==1)):\n",
        "    TP+=1\n",
        "  elif ((Test['House class'].iloc[rows]==1) and (Test_DF['House class'].iloc[rows]==0)):\n",
        "    FP+=1\n",
        "  elif ((Test['House class'].iloc[rows]==0) and (Test_DF['House class'].iloc[rows]==0)):\n",
        "    TN+=1\n",
        "  elif ((Test['House class'].iloc[rows]==0) and (Test_DF['House class'].iloc[rows]==1)):\n",
        "    FN+=1\n",
        "\n",
        "print(\"TP: \",TP, \"TN: \",TN, \"FP: \",FP, \"FN: \",FN, \"Precyzja: \",round(TP/(TP+FP),2),\"Recall: \", round(TP/(TP+FN),2),\"F1: \", round(2*((TP/(TP+FP)*(TP/(TP+FN)))/((TP/(TP+FP))+(TP/(TP+FN)))),2),\"Accuracy \",round((TP+TN)/tests,2))"
      ],
      "execution_count": null,
      "outputs": [
        {
          "output_type": "stream",
          "text": [
            "TP:  100 TN:  87 FP:  0 FN:  5 Precyzja:  1.0 Recall:  0.95 F1:  0.98 Accuracy  0.97\n"
          ],
          "name": "stdout"
        }
      ]
    },
    {
      "cell_type": "code",
      "metadata": {
        "colab": {
          "base_uri": "https://localhost:8080/",
          "height": 606
        },
        "id": "16Qnd3ra09c7",
        "outputId": "e0f01908-71fe-4e53-9947-3b0a3dfc11a1"
      },
      "source": [
        "  Odleglosc=[0]*ind\n",
        "  for row in range(ind):\n",
        "    p2=Dev['Cooling Load'].iloc[row]\n",
        "    p3=Dev['Heating Load'].iloc[row]\n",
        "    #Odleglosc[row]=round(np.sqrt((Test.iloc[20][-3]-p2)**2+(Test.iloc[20][-2]-p3)**2),2)\n",
        "    Dev['Odleglosc Euklidesa'][row]=round(np.sqrt((Test.iloc[20][-3]-p2)**2+(Test.iloc[20][-2]-p3)**2),2)\n",
        "  new=Dev.nsmallest(n,'Odleglosc Euklidesa')\n",
        "  meta=new['House class'].value_counts()[:1].index.tolist()\n",
        "  a=meta[0]\n",
        "  Test['House class'].iloc[5]=a\n",
        "new[['House class','Odleglosc Euklidesa']]"
      ],
      "execution_count": null,
      "outputs": [
        {
          "output_type": "stream",
          "text": [
            "/usr/local/lib/python3.6/dist-packages/ipykernel_launcher.py:6: SettingWithCopyWarning: \n",
            "A value is trying to be set on a copy of a slice from a DataFrame\n",
            "\n",
            "See the caveats in the documentation: https://pandas.pydata.org/pandas-docs/stable/user_guide/indexing.html#returning-a-view-versus-a-copy\n",
            "  \n",
            "/usr/local/lib/python3.6/dist-packages/IPython/core/interactiveshell.py:2882: SettingWithCopyWarning: \n",
            "A value is trying to be set on a copy of a slice from a DataFrame\n",
            "\n",
            "See the caveats in the documentation: https://pandas.pydata.org/pandas-docs/stable/user_guide/indexing.html#returning-a-view-versus-a-copy\n",
            "  exec(code_obj, self.user_global_ns, self.user_ns)\n",
            "/usr/local/lib/python3.6/dist-packages/pandas/core/indexing.py:670: SettingWithCopyWarning: \n",
            "A value is trying to be set on a copy of a slice from a DataFrame\n",
            "\n",
            "See the caveats in the documentation: https://pandas.pydata.org/pandas-docs/stable/user_guide/indexing.html#returning-a-view-versus-a-copy\n",
            "  iloc._setitem_with_indexer(indexer, value)\n",
            "/usr/local/lib/python3.6/dist-packages/ipykernel_launcher.py:10: SettingWithCopyWarning: \n",
            "A value is trying to be set on a copy of a slice from a DataFrame\n",
            "\n",
            "See the caveats in the documentation: https://pandas.pydata.org/pandas-docs/stable/user_guide/indexing.html#returning-a-view-versus-a-copy\n",
            "  # Remove the CWD from sys.path while we load stuff.\n"
          ],
          "name": "stderr"
        },
        {
          "output_type": "execute_result",
          "data": {
            "text/html": [
              "<div>\n",
              "<style scoped>\n",
              "    .dataframe tbody tr th:only-of-type {\n",
              "        vertical-align: middle;\n",
              "    }\n",
              "\n",
              "    .dataframe tbody tr th {\n",
              "        vertical-align: top;\n",
              "    }\n",
              "\n",
              "    .dataframe thead th {\n",
              "        text-align: right;\n",
              "    }\n",
              "</style>\n",
              "<table border=\"1\" class=\"dataframe\">\n",
              "  <thead>\n",
              "    <tr style=\"text-align: right;\">\n",
              "      <th></th>\n",
              "      <th>House class</th>\n",
              "      <th>Odleglosc Euklidesa</th>\n",
              "    </tr>\n",
              "  </thead>\n",
              "  <tbody>\n",
              "    <tr>\n",
              "      <th>549</th>\n",
              "      <td>1</td>\n",
              "      <td>0</td>\n",
              "    </tr>\n",
              "    <tr>\n",
              "      <th>548</th>\n",
              "      <td>1</td>\n",
              "      <td>1</td>\n",
              "    </tr>\n",
              "    <tr>\n",
              "      <th>550</th>\n",
              "      <td>1</td>\n",
              "      <td>1</td>\n",
              "    </tr>\n",
              "    <tr>\n",
              "      <th>551</th>\n",
              "      <td>1</td>\n",
              "      <td>1</td>\n",
              "    </tr>\n",
              "    <tr>\n",
              "      <th>112</th>\n",
              "      <td>1</td>\n",
              "      <td>3</td>\n",
              "    </tr>\n",
              "    <tr>\n",
              "      <th>258</th>\n",
              "      <td>1</td>\n",
              "      <td>3</td>\n",
              "    </tr>\n",
              "    <tr>\n",
              "      <th>304</th>\n",
              "      <td>1</td>\n",
              "      <td>3</td>\n",
              "    </tr>\n",
              "  </tbody>\n",
              "</table>\n",
              "</div>"
            ],
            "text/plain": [
              "     House class  Odleglosc Euklidesa\n",
              "549            1                    0\n",
              "548            1                    1\n",
              "550            1                    1\n",
              "551            1                    1\n",
              "112            1                    3\n",
              "258            1                    3\n",
              "304            1                    3"
            ]
          },
          "metadata": {
            "tags": []
          },
          "execution_count": 14
        }
      ]
    },
    {
      "cell_type": "markdown",
      "metadata": {
        "id": "D3ronH5HwFIH"
      },
      "source": [
        "#Klasyfikator Bayes'a"
      ]
    },
    {
      "cell_type": "code",
      "metadata": {
        "colab": {
          "base_uri": "https://localhost:8080/"
        },
        "id": "ccMklAHpwRPL",
        "outputId": "8774ab41-4b17-4771-9ac7-c8e6fdc67ff6"
      },
      "source": [
        "lenght=len(DF)\n",
        "ind=round(0.75*len(DF))\n",
        "tests=lenght-ind\n",
        "Dev_DF=DF[:ind]\n",
        "Test_DF=DF[ind:]\n",
        "Dev=Dev_DF\n",
        "Test=Test_DF[['Relative Compactness','Surface Area','Wall Area','Roof Area','Overall Height','Orientation','Glazing Area','Glazing Area Distribution','Heating Load', 'Cooling Load']]\n",
        "Test['House class']=None\n",
        "Test_DF.iloc[0][-4]\n",
        "Test.iloc[0][-3]"
      ],
      "execution_count": null,
      "outputs": [
        {
          "output_type": "execute_result",
          "data": {
            "text/plain": [
              "32.82"
            ]
          },
          "metadata": {
            "tags": []
          },
          "execution_count": 15
        }
      ]
    },
    {
      "cell_type": "code",
      "metadata": {
        "colab": {
          "base_uri": "https://localhost:8080/"
        },
        "id": "FgC3JepnkR9e",
        "outputId": "c017b357-12f1-49ca-f964-8962efd7e5ba"
      },
      "source": [
        "T5=0\n",
        "T10=0\n",
        "T15=0\n",
        "T20=0\n",
        "T25=0\n",
        "T30=0\n",
        "T35=0\n",
        "T40=0\n",
        "for rows in range(ind):\n",
        "  a=Dev['Cooling Load'].iloc[rows]\n",
        "  if (Dev['House class'].iloc[rows]==1):\n",
        "    if (a<=5):\n",
        "      T5=+1\n",
        "    elif (a>5 and a<=10):\n",
        "      T10+=1\n",
        "    elif (a>10 and a<=15):\n",
        "      T15+=1\n",
        "    elif (a>15 and a<=20):\n",
        "      T20+=1\n",
        "    elif (a>20 and a<=25):\n",
        "      T25+=1\n",
        "    elif (a>25 and a<=30):\n",
        "      T30+=1\n",
        "    elif (a>30 and a<=35):\n",
        "      T35+=1\n",
        "    elif (a>35):\n",
        "      T40+=1\n",
        "print(T5,\"\\n\",T10,\"\\n\",T15,\"\\n\",T20,\"\\n\",T25,\"\\n\",T30,\"\\n\",T35,\"\\n\",T40)\n",
        "Dev['House class'].sum()"
      ],
      "execution_count": null,
      "outputs": [
        {
          "output_type": "stream",
          "text": [
            "0 \n",
            " 0 \n",
            " 0 \n",
            " 0 \n",
            " 14 \n",
            " 105 \n",
            " 88 \n",
            " 79\n"
          ],
          "name": "stdout"
        },
        {
          "output_type": "execute_result",
          "data": {
            "text/plain": [
              "286"
            ]
          },
          "metadata": {
            "tags": []
          },
          "execution_count": 16
        }
      ]
    },
    {
      "cell_type": "code",
      "metadata": {
        "colab": {
          "base_uri": "https://localhost:8080/"
        },
        "id": "a0ESlsDxqcdH",
        "outputId": "8e4d90ff-c369-4402-ad05-bb3b44384eb5"
      },
      "source": [
        "P5=0\n",
        "P10=0\n",
        "P15=0\n",
        "P20=0\n",
        "P25=0\n",
        "P30=0\n",
        "P35=0\n",
        "P40=0\n",
        "for rows in range(ind):\n",
        "  a=Dev['Heating Load'].iloc[rows]\n",
        "  if (Dev['House class'].iloc[rows]==1):\n",
        "    if (a<=5):\n",
        "      P5=+1\n",
        "    elif (a>5 and a<=10):\n",
        "      P10+=1\n",
        "    elif (a>10 and a<=15):\n",
        "      P15+=1\n",
        "    elif (a>15 and a<=20):\n",
        "      P20+=1\n",
        "    elif (a>20 and a<=25):\n",
        "      P25+=1\n",
        "    elif (a>25 and a<=30):\n",
        "      P30+=1\n",
        "    elif (a>30 and a<=35):\n",
        "      P35+=1\n",
        "    elif (a>35):\n",
        "      P40+=1\n",
        "\n",
        "print(P5,\"\\n\",P10,\"\\n\",P15,\"\\n\",P20,\"\\n\",P25,\"\\n\",P30,\"\\n\",P35,\"\\n\",P40)\n",
        "Dev['House class'].sum()"
      ],
      "execution_count": null,
      "outputs": [
        {
          "output_type": "stream",
          "text": [
            "0 \n",
            " 0 \n",
            " 0 \n",
            " 11 \n",
            " 51 \n",
            " 103 \n",
            " 49 \n",
            " 72\n"
          ],
          "name": "stdout"
        },
        {
          "output_type": "execute_result",
          "data": {
            "text/plain": [
              "286"
            ]
          },
          "metadata": {
            "tags": []
          },
          "execution_count": 17
        }
      ]
    },
    {
      "cell_type": "code",
      "metadata": {
        "colab": {
          "base_uri": "https://localhost:8080/"
        },
        "id": "L_aUcnjT3OBO",
        "outputId": "cbd6817a-2556-4720-ac35-1a052e40025b"
      },
      "source": [
        "F5=0\n",
        "F10=0\n",
        "F15=0\n",
        "F20=0\n",
        "F25=0\n",
        "F30=0\n",
        "F35=0\n",
        "F40=0\n",
        "for rows in range(ind):\n",
        "  a=Dev['Cooling Load'].iloc[rows]\n",
        "  if (Dev['House class'].iloc[rows]==0):\n",
        "    if (a<=5):\n",
        "      F5=+1\n",
        "    elif (a>5 and a<=10):\n",
        "      F10+=1\n",
        "    elif (a>10 and a<=15):\n",
        "      F15+=1\n",
        "    elif (a>15 and a<=20):\n",
        "      F20+=1\n",
        "    elif (a>20 and a<=25):\n",
        "      F25+=1\n",
        "    elif (a>25 and a<=30):\n",
        "      F30+=1\n",
        "    elif (a>30 and a<=35):\n",
        "      F35+=1\n",
        "    elif (a>35):\n",
        "      F40+=1\n",
        "\n",
        "print(F5,\"\\n\",F10,\"\\n\",F15,\"\\n\",F20,\"\\n\",F25,\"\\n\",F30,\"\\n\",F35,\"\\n\",F40)\n",
        "ind-Dev['House class'].sum()"
      ],
      "execution_count": null,
      "outputs": [
        {
          "output_type": "stream",
          "text": [
            "0 \n",
            " 0 \n",
            " 149 \n",
            " 119 \n",
            " 22 \n",
            " 0 \n",
            " 0 \n",
            " 0\n"
          ],
          "name": "stdout"
        },
        {
          "output_type": "execute_result",
          "data": {
            "text/plain": [
              "290"
            ]
          },
          "metadata": {
            "tags": []
          },
          "execution_count": 18
        }
      ]
    },
    {
      "cell_type": "code",
      "metadata": {
        "colab": {
          "base_uri": "https://localhost:8080/"
        },
        "id": "B2kgd1Ts3rRY",
        "outputId": "e2d2db3d-9ac4-455a-93d5-c0aed4a406d2"
      },
      "source": [
        "N5=0\n",
        "N10=0\n",
        "N15=0\n",
        "N20=0\n",
        "N25=0\n",
        "N30=0\n",
        "N35=0\n",
        "N40=0\n",
        "for rows in range(ind):\n",
        "  a=Dev['Heating Load'].iloc[rows]\n",
        "  if (Dev['House class'].iloc[rows]==0):\n",
        "    if (a<=5):\n",
        "      N5=+1\n",
        "    elif (a>5 and a<=10):\n",
        "      N10+=1\n",
        "    elif (a>10 and a<=15):\n",
        "      N15+=1\n",
        "    elif (a>15 and a<=20):\n",
        "      N20+=1\n",
        "    elif (a>20 and a<=25):\n",
        "      N25+=1\n",
        "    elif (a>25 and a<=30):\n",
        "      N30+=1\n",
        "    elif (a>30 and a<=35):\n",
        "      N35+=1\n",
        "    elif (a>35):\n",
        "      N40+=1\n",
        "\n",
        "print(N5,\"\\n\",N10,\"\\n\",N15,\"\\n\",N20,\"\\n\",N25,\"\\n\",N30,\"\\n\",N35,\"\\n\",N40)\n",
        "ind-Dev['House class'].sum()"
      ],
      "execution_count": null,
      "outputs": [
        {
          "output_type": "stream",
          "text": [
            "0 \n",
            " 20 \n",
            " 212 \n",
            " 58 \n",
            " 0 \n",
            " 0 \n",
            " 0 \n",
            " 0\n"
          ],
          "name": "stdout"
        },
        {
          "output_type": "execute_result",
          "data": {
            "text/plain": [
              "290"
            ]
          },
          "metadata": {
            "tags": []
          },
          "execution_count": 19
        }
      ]
    },
    {
      "cell_type": "code",
      "metadata": {
        "colab": {
          "base_uri": "https://localhost:8080/",
          "height": 521
        },
        "id": "DXNdRe5i5BZ6",
        "outputId": "1a2b405d-7b3a-47e5-ac74-efb23167149a"
      },
      "source": [
        "for i in range(tests):\n",
        "  a=Test[\"Cooling Load\"].iloc[i]\n",
        "  b=Test['Heating Load'].iloc[i]\n",
        "  if (a<=5):\n",
        "    Yes=T5\n",
        "    No=F5\n",
        "  elif (a>5 and a<=10):\n",
        "    Yes=T10\n",
        "    No=F10\n",
        "  elif (a>10 and a<=15):\n",
        "    Yes=T15\n",
        "    No=F15\n",
        "  elif (a>15 and a<=20):\n",
        "    Yes=T20\n",
        "    No=F20\n",
        "  elif (a>20 and a<=25):\n",
        "    Yes=T25\n",
        "    No=F25\n",
        "  elif (a>25 and a<=30):\n",
        "    Yes=T30\n",
        "    No=F30\n",
        "  elif (a>30 and a<=35):\n",
        "    Yes=T35\n",
        "    No=F35\n",
        "  elif (a>35):\n",
        "    Yes=T40\n",
        "    No=F40\n",
        "  if (b<=5):\n",
        "    Tr=P5\n",
        "    Fl=N5\n",
        "  elif (b>5 and b<=10):\n",
        "    Tr=P10\n",
        "    Fl=N10\n",
        "  elif (b>10 and b<=15):\n",
        "    Tr=P15\n",
        "    Fl=N15\n",
        "  elif (b>15 and b<=20):\n",
        "    Tr=P20\n",
        "    Fl=N20\n",
        "  elif (b>20 and b<=25):\n",
        "    Tr=P25\n",
        "    Fl=N25\n",
        "  elif (b>25 and b<=30):\n",
        "    Tr=P30\n",
        "    Fl=N30\n",
        "  elif (b>30 and b<=35):\n",
        "    Tr=P35\n",
        "    Fl=N35\n",
        "  elif (b>35):\n",
        "    Tr=P40\n",
        "    Fl=N40\n",
        "  Py=(Yes/Dev['House class'].sum())*(Tr/Dev['House class'].sum())*(Dev['House class'].sum()/ind)\n",
        "  Pn=(No/(ind-Dev['House class'].sum()))*(Fl/(ind-Dev['House class'].sum()))*((ind-Dev['House class'].sum())/ind)\n",
        "  PPY=Py/(Py+Pn)\n",
        "  PPn=Pn/(Py+Pn)\n",
        "  if PPY<PPn:\n",
        "    Test['House class'].iloc[i]=0\n",
        "  else:\n",
        "    Test['House class'].iloc[i]=1\n",
        "\n",
        "Test"
      ],
      "execution_count": null,
      "outputs": [
        {
          "output_type": "stream",
          "text": [
            "/usr/local/lib/python3.6/dist-packages/pandas/core/indexing.py:670: SettingWithCopyWarning: \n",
            "A value is trying to be set on a copy of a slice from a DataFrame\n",
            "\n",
            "See the caveats in the documentation: https://pandas.pydata.org/pandas-docs/stable/user_guide/indexing.html#returning-a-view-versus-a-copy\n",
            "  iloc._setitem_with_indexer(indexer, value)\n"
          ],
          "name": "stderr"
        },
        {
          "output_type": "execute_result",
          "data": {
            "text/html": [
              "<div>\n",
              "<style scoped>\n",
              "    .dataframe tbody tr th:only-of-type {\n",
              "        vertical-align: middle;\n",
              "    }\n",
              "\n",
              "    .dataframe tbody tr th {\n",
              "        vertical-align: top;\n",
              "    }\n",
              "\n",
              "    .dataframe thead th {\n",
              "        text-align: right;\n",
              "    }\n",
              "</style>\n",
              "<table border=\"1\" class=\"dataframe\">\n",
              "  <thead>\n",
              "    <tr style=\"text-align: right;\">\n",
              "      <th></th>\n",
              "      <th>Relative Compactness</th>\n",
              "      <th>Surface Area</th>\n",
              "      <th>Wall Area</th>\n",
              "      <th>Roof Area</th>\n",
              "      <th>Overall Height</th>\n",
              "      <th>Orientation</th>\n",
              "      <th>Glazing Area</th>\n",
              "      <th>Glazing Area Distribution</th>\n",
              "      <th>Heating Load</th>\n",
              "      <th>Cooling Load</th>\n",
              "      <th>House class</th>\n",
              "    </tr>\n",
              "  </thead>\n",
              "  <tbody>\n",
              "    <tr>\n",
              "      <th>576</th>\n",
              "      <td>0.98</td>\n",
              "      <td>514.5</td>\n",
              "      <td>294.0</td>\n",
              "      <td>110.25</td>\n",
              "      <td>7.0</td>\n",
              "      <td>2</td>\n",
              "      <td>0.4</td>\n",
              "      <td>2</td>\n",
              "      <td>32.82</td>\n",
              "      <td>32.96</td>\n",
              "      <td>1</td>\n",
              "    </tr>\n",
              "    <tr>\n",
              "      <th>577</th>\n",
              "      <td>0.98</td>\n",
              "      <td>514.5</td>\n",
              "      <td>294.0</td>\n",
              "      <td>110.25</td>\n",
              "      <td>7.0</td>\n",
              "      <td>3</td>\n",
              "      <td>0.4</td>\n",
              "      <td>2</td>\n",
              "      <td>32.71</td>\n",
              "      <td>33.13</td>\n",
              "      <td>1</td>\n",
              "    </tr>\n",
              "    <tr>\n",
              "      <th>578</th>\n",
              "      <td>0.98</td>\n",
              "      <td>514.5</td>\n",
              "      <td>294.0</td>\n",
              "      <td>110.25</td>\n",
              "      <td>7.0</td>\n",
              "      <td>4</td>\n",
              "      <td>0.4</td>\n",
              "      <td>2</td>\n",
              "      <td>32.24</td>\n",
              "      <td>33.94</td>\n",
              "      <td>1</td>\n",
              "    </tr>\n",
              "    <tr>\n",
              "      <th>579</th>\n",
              "      <td>0.98</td>\n",
              "      <td>514.5</td>\n",
              "      <td>294.0</td>\n",
              "      <td>110.25</td>\n",
              "      <td>7.0</td>\n",
              "      <td>5</td>\n",
              "      <td>0.4</td>\n",
              "      <td>2</td>\n",
              "      <td>32.72</td>\n",
              "      <td>33.78</td>\n",
              "      <td>1</td>\n",
              "    </tr>\n",
              "    <tr>\n",
              "      <th>580</th>\n",
              "      <td>0.90</td>\n",
              "      <td>563.5</td>\n",
              "      <td>318.5</td>\n",
              "      <td>122.50</td>\n",
              "      <td>7.0</td>\n",
              "      <td>2</td>\n",
              "      <td>0.4</td>\n",
              "      <td>2</td>\n",
              "      <td>35.84</td>\n",
              "      <td>38.35</td>\n",
              "      <td>1</td>\n",
              "    </tr>\n",
              "    <tr>\n",
              "      <th>...</th>\n",
              "      <td>...</td>\n",
              "      <td>...</td>\n",
              "      <td>...</td>\n",
              "      <td>...</td>\n",
              "      <td>...</td>\n",
              "      <td>...</td>\n",
              "      <td>...</td>\n",
              "      <td>...</td>\n",
              "      <td>...</td>\n",
              "      <td>...</td>\n",
              "      <td>...</td>\n",
              "    </tr>\n",
              "    <tr>\n",
              "      <th>763</th>\n",
              "      <td>0.64</td>\n",
              "      <td>784.0</td>\n",
              "      <td>343.0</td>\n",
              "      <td>220.50</td>\n",
              "      <td>3.5</td>\n",
              "      <td>5</td>\n",
              "      <td>0.4</td>\n",
              "      <td>5</td>\n",
              "      <td>17.88</td>\n",
              "      <td>21.40</td>\n",
              "      <td>0</td>\n",
              "    </tr>\n",
              "    <tr>\n",
              "      <th>764</th>\n",
              "      <td>0.62</td>\n",
              "      <td>808.5</td>\n",
              "      <td>367.5</td>\n",
              "      <td>220.50</td>\n",
              "      <td>3.5</td>\n",
              "      <td>2</td>\n",
              "      <td>0.4</td>\n",
              "      <td>5</td>\n",
              "      <td>16.54</td>\n",
              "      <td>16.88</td>\n",
              "      <td>0</td>\n",
              "    </tr>\n",
              "    <tr>\n",
              "      <th>765</th>\n",
              "      <td>0.62</td>\n",
              "      <td>808.5</td>\n",
              "      <td>367.5</td>\n",
              "      <td>220.50</td>\n",
              "      <td>3.5</td>\n",
              "      <td>3</td>\n",
              "      <td>0.4</td>\n",
              "      <td>5</td>\n",
              "      <td>16.44</td>\n",
              "      <td>17.11</td>\n",
              "      <td>0</td>\n",
              "    </tr>\n",
              "    <tr>\n",
              "      <th>766</th>\n",
              "      <td>0.62</td>\n",
              "      <td>808.5</td>\n",
              "      <td>367.5</td>\n",
              "      <td>220.50</td>\n",
              "      <td>3.5</td>\n",
              "      <td>4</td>\n",
              "      <td>0.4</td>\n",
              "      <td>5</td>\n",
              "      <td>16.48</td>\n",
              "      <td>16.61</td>\n",
              "      <td>0</td>\n",
              "    </tr>\n",
              "    <tr>\n",
              "      <th>767</th>\n",
              "      <td>0.62</td>\n",
              "      <td>808.5</td>\n",
              "      <td>367.5</td>\n",
              "      <td>220.50</td>\n",
              "      <td>3.5</td>\n",
              "      <td>5</td>\n",
              "      <td>0.4</td>\n",
              "      <td>5</td>\n",
              "      <td>16.64</td>\n",
              "      <td>16.03</td>\n",
              "      <td>0</td>\n",
              "    </tr>\n",
              "  </tbody>\n",
              "</table>\n",
              "<p>192 rows × 11 columns</p>\n",
              "</div>"
            ],
            "text/plain": [
              "     Relative Compactness  Surface Area  ...  Cooling Load  House class\n",
              "576                  0.98         514.5  ...         32.96            1\n",
              "577                  0.98         514.5  ...         33.13            1\n",
              "578                  0.98         514.5  ...         33.94            1\n",
              "579                  0.98         514.5  ...         33.78            1\n",
              "580                  0.90         563.5  ...         38.35            1\n",
              "..                    ...           ...  ...           ...          ...\n",
              "763                  0.64         784.0  ...         21.40            0\n",
              "764                  0.62         808.5  ...         16.88            0\n",
              "765                  0.62         808.5  ...         17.11            0\n",
              "766                  0.62         808.5  ...         16.61            0\n",
              "767                  0.62         808.5  ...         16.03            0\n",
              "\n",
              "[192 rows x 11 columns]"
            ]
          },
          "metadata": {
            "tags": []
          },
          "execution_count": 20
        }
      ]
    },
    {
      "cell_type": "code",
      "metadata": {
        "colab": {
          "base_uri": "https://localhost:8080/"
        },
        "id": "QAB_wQkiGEe1",
        "outputId": "e356bdfd-2451-4326-faa1-14fada8ae820"
      },
      "source": [
        "TP=0\n",
        "TN=0\n",
        "FP=0\n",
        "FN=0\n",
        "for rows in range(tests):\n",
        "  if ((Test['House class'].iloc[rows]==1) and (Test_DF['House class'].iloc[rows]==1)):\n",
        "    TP+=1\n",
        "  elif ((Test['House class'].iloc[rows]==1) and (Test_DF['House class'].iloc[rows]==0)):\n",
        "    FP+=1\n",
        "  elif ((Test['House class'].iloc[rows]==0) and (Test_DF['House class'].iloc[rows]==0)):\n",
        "    TN+=1\n",
        "  elif ((Test['House class'].iloc[rows]==0) and (Test_DF['House class'].iloc[rows]==1)):\n",
        "    FN+=1\n",
        "\n",
        "print(\"TP: \",TP, \"TN: \",TN, \"FP: \",FP, \"FN: \",FN, \"Precyzja: \",round(TP/(TP+FP),2),\"Recall: \", round(TP/(TP+FN),2),\"F1: \", round(2*((TP/(TP+FP)*(TP/(TP+FN)))/((TP/(TP+FP))+(TP/(TP+FN)))),2),\"Accuracy \",round((TP+TN)/tests,2))"
      ],
      "execution_count": null,
      "outputs": [
        {
          "output_type": "stream",
          "text": [
            "TP:  96 TN:  87 FP:  0 FN:  9 Precyzja:  1.0 Recall:  0.91 F1:  0.96 Accuracy  0.95\n"
          ],
          "name": "stdout"
        }
      ]
    },
    {
      "cell_type": "markdown",
      "metadata": {
        "id": "r6epYFVOHdcw"
      },
      "source": [
        "Widać nieco mniejszą precyzję tej metody. Zapewne jest to spowodowane dobrze dobranym przedziałem (krok co 5). Jednak wciąż błąd pozostaje niewielki (zaledwie 5%)"
      ]
    },
    {
      "cell_type": "markdown",
      "metadata": {
        "id": "D-15hd4aqKut"
      },
      "source": [
        "#Regresja liniowa\n"
      ]
    },
    {
      "cell_type": "code",
      "metadata": {
        "colab": {
          "base_uri": "https://localhost:8080/"
        },
        "id": "OvP7F6cKqM4p",
        "outputId": "c2029df6-ac2e-446c-a66a-de2c62d6304a"
      },
      "source": [
        "lenght=len(DF)\n",
        "ind=round(0.75*len(DF))\n",
        "tests=lenght-ind\n",
        "Dev_DF=DF[:ind]\n",
        "Test_DF=DF[ind:]\n",
        "Dev=Dev_DF\n",
        "Test=Test_DF[['Relative Compactness','Surface Area','Wall Area','Roof Area','Overall Height','Orientation','Glazing Area','Glazing Area Distribution','Heating Load', 'Cooling Load']]\n",
        "Test['House class']=None\n",
        "Test_DF.iloc[0][-4]\n",
        "Test.iloc[0][-3]"
      ],
      "execution_count": null,
      "outputs": [
        {
          "output_type": "execute_result",
          "data": {
            "text/plain": [
              "32.82"
            ]
          },
          "metadata": {
            "tags": []
          },
          "execution_count": 22
        }
      ]
    },
    {
      "cell_type": "code",
      "metadata": {
        "colab": {
          "base_uri": "https://localhost:8080/"
        },
        "id": "Fjjmxl0fqOzJ",
        "outputId": "b858706d-2314-4e81-8b86-70df139092bf"
      },
      "source": [
        "def sigmod(x):\n",
        "  return 1/(1+np.exp(-x))\n",
        "\n",
        "def logistic_loss(y, y_hat):\n",
        "  return -np.mean(y*np.log(y_hat)+(1-y)*np.log(1-y_hat))\n",
        "\n",
        "x_train=Dev[[\"Heating Load\",\"Cooling Load\"]]\n",
        "x_test=Test[['Heating Load','Cooling Load']]\n",
        "y_train=Dev['House class']\n",
        "y_test=Test['House class']\n",
        "\n",
        "y_train=y_train.values.reshape(-1,1)\n",
        "y_test=y_test.values.reshape(-1,1)\n",
        "\n",
        "\n",
        "W=np.zeros((2,1))\n",
        "b=np.zeros((1,1))\n",
        "\n",
        "learning_rate = 0.01\n",
        "\n",
        "n=len(y_train)\n",
        "\n",
        "for epoch in range(1000):\n",
        "  Z= np.dot(x_train,W)+b\n",
        "  A=sigmod(Z)\n",
        "  loss = logistic_loss(y_train,A)\n",
        "  dz= A - y_train\n",
        "\n",
        "  dw= 1/n*np.dot(x_train.T,dz)\n",
        "\n",
        "  db = np.sum(dz)\n",
        "\n",
        "  W=W-learning_rate*dw\n",
        "  b=b-learning_rate*db\n",
        "  if (epoch%100==0):\n",
        "    print(loss)"
      ],
      "execution_count": null,
      "outputs": [
        {
          "output_type": "stream",
          "text": [
            "0.6931471805599453\n",
            "0.05633711168876846\n",
            "0.03941684309866658\n",
            "0.032443199392472345\n",
            "0.028451717784261914\n",
            "0.025793033817777766\n",
            "0.02385850286643374\n",
            "0.02236688294365531\n",
            "0.02116873129703607\n",
            "0.020176621010978685\n"
          ],
          "name": "stdout"
        }
      ]
    },
    {
      "cell_type": "code",
      "metadata": {
        "colab": {
          "base_uri": "https://localhost:8080/"
        },
        "id": "BxfiuQpb7-OT",
        "outputId": "b25aace0-7cdb-4643-8603-e77419191c03"
      },
      "source": [
        "for i in range(tests):\n",
        "  if (sigmod(np.dot(x_test.iloc[i], W) + b)>0.5):\n",
        "    Test['House class'].iloc[i]=1\n",
        "  else:\n",
        "    Test['House class'].iloc[i]=0"
      ],
      "execution_count": null,
      "outputs": [
        {
          "output_type": "stream",
          "text": [
            "/usr/local/lib/python3.6/dist-packages/pandas/core/indexing.py:670: SettingWithCopyWarning: \n",
            "A value is trying to be set on a copy of a slice from a DataFrame\n",
            "\n",
            "See the caveats in the documentation: https://pandas.pydata.org/pandas-docs/stable/user_guide/indexing.html#returning-a-view-versus-a-copy\n",
            "  iloc._setitem_with_indexer(indexer, value)\n"
          ],
          "name": "stderr"
        }
      ]
    },
    {
      "cell_type": "code",
      "metadata": {
        "colab": {
          "base_uri": "https://localhost:8080/",
          "height": 419
        },
        "id": "eXUPl9zZCYaB",
        "outputId": "14ed8c30-a4ef-41f5-dc5a-3a3b7372632f"
      },
      "source": [
        "x_test"
      ],
      "execution_count": null,
      "outputs": [
        {
          "output_type": "execute_result",
          "data": {
            "text/html": [
              "<div>\n",
              "<style scoped>\n",
              "    .dataframe tbody tr th:only-of-type {\n",
              "        vertical-align: middle;\n",
              "    }\n",
              "\n",
              "    .dataframe tbody tr th {\n",
              "        vertical-align: top;\n",
              "    }\n",
              "\n",
              "    .dataframe thead th {\n",
              "        text-align: right;\n",
              "    }\n",
              "</style>\n",
              "<table border=\"1\" class=\"dataframe\">\n",
              "  <thead>\n",
              "    <tr style=\"text-align: right;\">\n",
              "      <th></th>\n",
              "      <th>Heating Load</th>\n",
              "      <th>Cooling Load</th>\n",
              "    </tr>\n",
              "  </thead>\n",
              "  <tbody>\n",
              "    <tr>\n",
              "      <th>576</th>\n",
              "      <td>32.82</td>\n",
              "      <td>32.96</td>\n",
              "    </tr>\n",
              "    <tr>\n",
              "      <th>577</th>\n",
              "      <td>32.71</td>\n",
              "      <td>33.13</td>\n",
              "    </tr>\n",
              "    <tr>\n",
              "      <th>578</th>\n",
              "      <td>32.24</td>\n",
              "      <td>33.94</td>\n",
              "    </tr>\n",
              "    <tr>\n",
              "      <th>579</th>\n",
              "      <td>32.72</td>\n",
              "      <td>33.78</td>\n",
              "    </tr>\n",
              "    <tr>\n",
              "      <th>580</th>\n",
              "      <td>35.84</td>\n",
              "      <td>38.35</td>\n",
              "    </tr>\n",
              "    <tr>\n",
              "      <th>...</th>\n",
              "      <td>...</td>\n",
              "      <td>...</td>\n",
              "    </tr>\n",
              "    <tr>\n",
              "      <th>763</th>\n",
              "      <td>17.88</td>\n",
              "      <td>21.40</td>\n",
              "    </tr>\n",
              "    <tr>\n",
              "      <th>764</th>\n",
              "      <td>16.54</td>\n",
              "      <td>16.88</td>\n",
              "    </tr>\n",
              "    <tr>\n",
              "      <th>765</th>\n",
              "      <td>16.44</td>\n",
              "      <td>17.11</td>\n",
              "    </tr>\n",
              "    <tr>\n",
              "      <th>766</th>\n",
              "      <td>16.48</td>\n",
              "      <td>16.61</td>\n",
              "    </tr>\n",
              "    <tr>\n",
              "      <th>767</th>\n",
              "      <td>16.64</td>\n",
              "      <td>16.03</td>\n",
              "    </tr>\n",
              "  </tbody>\n",
              "</table>\n",
              "<p>192 rows × 2 columns</p>\n",
              "</div>"
            ],
            "text/plain": [
              "     Heating Load  Cooling Load\n",
              "576         32.82         32.96\n",
              "577         32.71         33.13\n",
              "578         32.24         33.94\n",
              "579         32.72         33.78\n",
              "580         35.84         38.35\n",
              "..            ...           ...\n",
              "763         17.88         21.40\n",
              "764         16.54         16.88\n",
              "765         16.44         17.11\n",
              "766         16.48         16.61\n",
              "767         16.64         16.03\n",
              "\n",
              "[192 rows x 2 columns]"
            ]
          },
          "metadata": {
            "tags": []
          },
          "execution_count": 25
        }
      ]
    },
    {
      "cell_type": "code",
      "metadata": {
        "colab": {
          "base_uri": "https://localhost:8080/"
        },
        "id": "FSLY87zPBHhb",
        "outputId": "3321fed0-4a27-47d2-a551-206dbc669395"
      },
      "source": [
        "sigmod(np.dot(x_test.iloc[1], W) + b)"
      ],
      "execution_count": null,
      "outputs": [
        {
          "output_type": "execute_result",
          "data": {
            "text/plain": [
              "array([[0.99999278]])"
            ]
          },
          "metadata": {
            "tags": []
          },
          "execution_count": 26
        }
      ]
    },
    {
      "cell_type": "code",
      "metadata": {
        "colab": {
          "base_uri": "https://localhost:8080/"
        },
        "id": "MIyuYw0UBYWF",
        "outputId": "6ed318a6-410e-4b1b-d8fc-0b37a7698419"
      },
      "source": [
        "TP=0\n",
        "TN=0\n",
        "FP=0\n",
        "FN=0\n",
        "for rows in range(tests):\n",
        "  if ((Test['House class'].iloc[rows]==1) and (Test_DF['House class'].iloc[rows]==1)):\n",
        "    TP+=1\n",
        "  elif ((Test['House class'].iloc[rows]==1) and (Test_DF['House class'].iloc[rows]==0)):\n",
        "    FP+=1\n",
        "  elif ((Test['House class'].iloc[rows]==0) and (Test_DF['House class'].iloc[rows]==0)):\n",
        "    TN+=1\n",
        "  elif ((Test['House class'].iloc[rows]==0) and (Test_DF['House class'].iloc[rows]==1)):\n",
        "    FN+=1\n",
        "\n",
        "print(\"TP: \",TP, \"TN: \",TN, \"FP: \",FP, \"FN: \",FN, \"Precyzja: \",round(TP/(TP+FP),2),\"Recall: \", round(TP/(TP+FN),2),\"F1: \", round(2*((TP/(TP+FP)*(TP/(TP+FN)))/((TP/(TP+FP))+(TP/(TP+FN)))),2),\"Accuracy \",round((TP+TN)/tests,2))"
      ],
      "execution_count": null,
      "outputs": [
        {
          "output_type": "stream",
          "text": [
            "TP:  98 TN:  87 FP:  0 FN:  7 Precyzja:  1.0 Recall:  0.93 F1:  0.97 Accuracy  0.96\n"
          ],
          "name": "stdout"
        }
      ]
    },
    {
      "cell_type": "markdown",
      "metadata": {
        "id": "QZpcrzsqDSpn"
      },
      "source": [
        "#Podsumowanie"
      ]
    },
    {
      "cell_type": "markdown",
      "metadata": {
        "id": "xE_9PPjkDUlQ"
      },
      "source": [
        "Najlepszym modelem okazał się model wykorzystujący odległość euklidesa, poprawność tutaj wynosiła 97%. Drugim z koleji był model regresji logistycznej. Jego dokładność wynosiła 96%. Ostatnim okazał się model klasyfikatora prawdopodobieństwa z wynikiem 95%. Jak widać wszystkie modele okazały się bardzo dokładne, różnice wynosiły zaledwie 1pkt p."
      ]
    }
  ]
}